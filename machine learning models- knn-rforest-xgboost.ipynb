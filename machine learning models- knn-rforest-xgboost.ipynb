{
 "cells": [
  {
   "cell_type": "code",
   "execution_count": 1,
   "id": "46075fb3",
   "metadata": {},
   "outputs": [],
   "source": [
    "import pandas as pd\n",
    "import numpy as np\n",
    "import seaborn as sns\n",
    "import matplotlib.pyplot as plt\n",
    "%matplotlib inline\n",
    "import sklearn\n",
    "\n",
    "import librosa\n",
    "import librosa.display\n",
    "import IPython.display as ipd"
   ]
  },
  {
   "cell_type": "code",
   "execution_count": 2,
   "id": "74f5e9fd",
   "metadata": {},
   "outputs": [
    {
     "data": {
      "text/html": [
       "<div>\n",
       "<style scoped>\n",
       "    .dataframe tbody tr th:only-of-type {\n",
       "        vertical-align: middle;\n",
       "    }\n",
       "\n",
       "    .dataframe tbody tr th {\n",
       "        vertical-align: top;\n",
       "    }\n",
       "\n",
       "    .dataframe thead th {\n",
       "        text-align: right;\n",
       "    }\n",
       "</style>\n",
       "<table border=\"1\" class=\"dataframe\">\n",
       "  <thead>\n",
       "    <tr style=\"text-align: right;\">\n",
       "      <th></th>\n",
       "      <th>filename</th>\n",
       "      <th>length</th>\n",
       "      <th>chroma_stft_mean</th>\n",
       "      <th>chroma_stft_var</th>\n",
       "      <th>rms_mean</th>\n",
       "      <th>rms_var</th>\n",
       "      <th>spectral_centroid_mean</th>\n",
       "      <th>spectral_centroid_var</th>\n",
       "      <th>spectral_bandwidth_mean</th>\n",
       "      <th>spectral_bandwidth_var</th>\n",
       "      <th>...</th>\n",
       "      <th>mfcc16_var</th>\n",
       "      <th>mfcc17_mean</th>\n",
       "      <th>mfcc17_var</th>\n",
       "      <th>mfcc18_mean</th>\n",
       "      <th>mfcc18_var</th>\n",
       "      <th>mfcc19_mean</th>\n",
       "      <th>mfcc19_var</th>\n",
       "      <th>mfcc20_mean</th>\n",
       "      <th>mfcc20_var</th>\n",
       "      <th>label</th>\n",
       "    </tr>\n",
       "  </thead>\n",
       "  <tbody>\n",
       "    <tr>\n",
       "      <th>0</th>\n",
       "      <td>blues.00000.0.wav</td>\n",
       "      <td>66149</td>\n",
       "      <td>0.335406</td>\n",
       "      <td>0.091048</td>\n",
       "      <td>0.130405</td>\n",
       "      <td>0.003521</td>\n",
       "      <td>1773.065032</td>\n",
       "      <td>167541.630869</td>\n",
       "      <td>1972.744388</td>\n",
       "      <td>117335.771563</td>\n",
       "      <td>...</td>\n",
       "      <td>39.687145</td>\n",
       "      <td>-3.241280</td>\n",
       "      <td>36.488243</td>\n",
       "      <td>0.722209</td>\n",
       "      <td>38.099152</td>\n",
       "      <td>-5.050335</td>\n",
       "      <td>33.618073</td>\n",
       "      <td>-0.243027</td>\n",
       "      <td>43.771767</td>\n",
       "      <td>blues</td>\n",
       "    </tr>\n",
       "    <tr>\n",
       "      <th>1</th>\n",
       "      <td>blues.00000.1.wav</td>\n",
       "      <td>66149</td>\n",
       "      <td>0.343065</td>\n",
       "      <td>0.086147</td>\n",
       "      <td>0.112699</td>\n",
       "      <td>0.001450</td>\n",
       "      <td>1816.693777</td>\n",
       "      <td>90525.690866</td>\n",
       "      <td>2010.051501</td>\n",
       "      <td>65671.875673</td>\n",
       "      <td>...</td>\n",
       "      <td>64.748276</td>\n",
       "      <td>-6.055294</td>\n",
       "      <td>40.677654</td>\n",
       "      <td>0.159015</td>\n",
       "      <td>51.264091</td>\n",
       "      <td>-2.837699</td>\n",
       "      <td>97.030830</td>\n",
       "      <td>5.784063</td>\n",
       "      <td>59.943081</td>\n",
       "      <td>blues</td>\n",
       "    </tr>\n",
       "    <tr>\n",
       "      <th>2</th>\n",
       "      <td>blues.00000.2.wav</td>\n",
       "      <td>66149</td>\n",
       "      <td>0.346815</td>\n",
       "      <td>0.092243</td>\n",
       "      <td>0.132003</td>\n",
       "      <td>0.004620</td>\n",
       "      <td>1788.539719</td>\n",
       "      <td>111407.437613</td>\n",
       "      <td>2084.565132</td>\n",
       "      <td>75124.921716</td>\n",
       "      <td>...</td>\n",
       "      <td>67.336563</td>\n",
       "      <td>-1.768610</td>\n",
       "      <td>28.348579</td>\n",
       "      <td>2.378768</td>\n",
       "      <td>45.717648</td>\n",
       "      <td>-1.938424</td>\n",
       "      <td>53.050835</td>\n",
       "      <td>2.517375</td>\n",
       "      <td>33.105122</td>\n",
       "      <td>blues</td>\n",
       "    </tr>\n",
       "    <tr>\n",
       "      <th>3</th>\n",
       "      <td>blues.00000.3.wav</td>\n",
       "      <td>66149</td>\n",
       "      <td>0.363639</td>\n",
       "      <td>0.086856</td>\n",
       "      <td>0.132565</td>\n",
       "      <td>0.002448</td>\n",
       "      <td>1655.289045</td>\n",
       "      <td>111952.284517</td>\n",
       "      <td>1960.039988</td>\n",
       "      <td>82913.639269</td>\n",
       "      <td>...</td>\n",
       "      <td>47.739452</td>\n",
       "      <td>-3.841155</td>\n",
       "      <td>28.337118</td>\n",
       "      <td>1.218588</td>\n",
       "      <td>34.770935</td>\n",
       "      <td>-3.580352</td>\n",
       "      <td>50.836224</td>\n",
       "      <td>3.630866</td>\n",
       "      <td>32.023678</td>\n",
       "      <td>blues</td>\n",
       "    </tr>\n",
       "    <tr>\n",
       "      <th>4</th>\n",
       "      <td>blues.00000.4.wav</td>\n",
       "      <td>66149</td>\n",
       "      <td>0.335579</td>\n",
       "      <td>0.088129</td>\n",
       "      <td>0.143289</td>\n",
       "      <td>0.001701</td>\n",
       "      <td>1630.656199</td>\n",
       "      <td>79667.267654</td>\n",
       "      <td>1948.503884</td>\n",
       "      <td>60204.020268</td>\n",
       "      <td>...</td>\n",
       "      <td>30.336359</td>\n",
       "      <td>0.664582</td>\n",
       "      <td>45.880913</td>\n",
       "      <td>1.689446</td>\n",
       "      <td>51.363583</td>\n",
       "      <td>-3.392489</td>\n",
       "      <td>26.738789</td>\n",
       "      <td>0.536961</td>\n",
       "      <td>29.146694</td>\n",
       "      <td>blues</td>\n",
       "    </tr>\n",
       "  </tbody>\n",
       "</table>\n",
       "<p>5 rows × 60 columns</p>\n",
       "</div>"
      ],
      "text/plain": [
       "            filename  length  chroma_stft_mean  chroma_stft_var  rms_mean  \\\n",
       "0  blues.00000.0.wav   66149          0.335406         0.091048  0.130405   \n",
       "1  blues.00000.1.wav   66149          0.343065         0.086147  0.112699   \n",
       "2  blues.00000.2.wav   66149          0.346815         0.092243  0.132003   \n",
       "3  blues.00000.3.wav   66149          0.363639         0.086856  0.132565   \n",
       "4  blues.00000.4.wav   66149          0.335579         0.088129  0.143289   \n",
       "\n",
       "    rms_var  spectral_centroid_mean  spectral_centroid_var  \\\n",
       "0  0.003521             1773.065032          167541.630869   \n",
       "1  0.001450             1816.693777           90525.690866   \n",
       "2  0.004620             1788.539719          111407.437613   \n",
       "3  0.002448             1655.289045          111952.284517   \n",
       "4  0.001701             1630.656199           79667.267654   \n",
       "\n",
       "   spectral_bandwidth_mean  spectral_bandwidth_var  ...  mfcc16_var  \\\n",
       "0              1972.744388           117335.771563  ...   39.687145   \n",
       "1              2010.051501            65671.875673  ...   64.748276   \n",
       "2              2084.565132            75124.921716  ...   67.336563   \n",
       "3              1960.039988            82913.639269  ...   47.739452   \n",
       "4              1948.503884            60204.020268  ...   30.336359   \n",
       "\n",
       "   mfcc17_mean  mfcc17_var  mfcc18_mean  mfcc18_var  mfcc19_mean  mfcc19_var  \\\n",
       "0    -3.241280   36.488243     0.722209   38.099152    -5.050335   33.618073   \n",
       "1    -6.055294   40.677654     0.159015   51.264091    -2.837699   97.030830   \n",
       "2    -1.768610   28.348579     2.378768   45.717648    -1.938424   53.050835   \n",
       "3    -3.841155   28.337118     1.218588   34.770935    -3.580352   50.836224   \n",
       "4     0.664582   45.880913     1.689446   51.363583    -3.392489   26.738789   \n",
       "\n",
       "   mfcc20_mean  mfcc20_var  label  \n",
       "0    -0.243027   43.771767  blues  \n",
       "1     5.784063   59.943081  blues  \n",
       "2     2.517375   33.105122  blues  \n",
       "3     3.630866   32.023678  blues  \n",
       "4     0.536961   29.146694  blues  \n",
       "\n",
       "[5 rows x 60 columns]"
      ]
     },
     "execution_count": 2,
     "metadata": {},
     "output_type": "execute_result"
    }
   ],
   "source": [
    "music_knn=pd.read_csv('features_3_sec.csv')\n",
    "music_knn.head()"
   ]
  },
  {
   "cell_type": "code",
   "execution_count": 3,
   "id": "3ef45a8f",
   "metadata": {},
   "outputs": [],
   "source": [
    "from sklearn.preprocessing import LabelEncoder,MinMaxScaler"
   ]
  },
  {
   "cell_type": "code",
   "execution_count": 4,
   "id": "3352a765",
   "metadata": {},
   "outputs": [],
   "source": [
    "label_encoder = LabelEncoder()\n",
    "music_knn['label'] = label_encoder.fit_transform(music_knn['label'])"
   ]
  },
  {
   "cell_type": "code",
   "execution_count": 5,
   "id": "3265b1d9",
   "metadata": {},
   "outputs": [],
   "source": [
    "X = music_knn.drop(['label','filename'],axis=1)\n",
    "y = music_knn['label'] "
   ]
  },
  {
   "cell_type": "code",
   "execution_count": 6,
   "id": "3db74097",
   "metadata": {},
   "outputs": [],
   "source": [
    "cols = X.columns"
   ]
  },
  {
   "cell_type": "code",
   "execution_count": 7,
   "id": "37e569ca",
   "metadata": {},
   "outputs": [],
   "source": [
    "scaler = MinMaxScaler()"
   ]
  },
  {
   "cell_type": "code",
   "execution_count": 8,
   "id": "c8974681",
   "metadata": {},
   "outputs": [],
   "source": [
    "scaled = scaler.fit_transform(X)"
   ]
  },
  {
   "cell_type": "code",
   "execution_count": 9,
   "id": "08590e78",
   "metadata": {},
   "outputs": [
    {
     "data": {
      "text/plain": [
       "array([[0.        , 0.3553988 , 0.71675699, ..., 0.02679679, 0.50674637,\n",
       "        0.04778078],\n",
       "       [0.        , 0.36732176, 0.67034733, ..., 0.08241395, 0.59302914,\n",
       "        0.06554772],\n",
       "       [0.        , 0.37315856, 0.72806736, ..., 0.0438406 , 0.5462638 ,\n",
       "        0.03606165],\n",
       "       ...,\n",
       "       [0.        , 0.37419556, 0.69754793, ..., 0.03992147, 0.50593726,\n",
       "        0.04538043],\n",
       "       [0.        , 0.43653695, 0.65774457, ..., 0.01910101, 0.51990048,\n",
       "        0.01373955],\n",
       "       [0.        , 0.40815099, 0.67614332, ..., 0.03194326, 0.46137225,\n",
       "        0.03454808]])"
      ]
     },
     "execution_count": 9,
     "metadata": {},
     "output_type": "execute_result"
    }
   ],
   "source": [
    "scaled"
   ]
  },
  {
   "cell_type": "code",
   "execution_count": 10,
   "id": "caccc900",
   "metadata": {},
   "outputs": [
    {
     "data": {
      "text/plain": [
       "(9990, 58)"
      ]
     },
     "execution_count": 10,
     "metadata": {},
     "output_type": "execute_result"
    }
   ],
   "source": [
    "scaled.shape"
   ]
  },
  {
   "cell_type": "code",
   "execution_count": 11,
   "id": "d5c4a1a7",
   "metadata": {},
   "outputs": [
    {
     "data": {
      "text/html": [
       "<div>\n",
       "<style scoped>\n",
       "    .dataframe tbody tr th:only-of-type {\n",
       "        vertical-align: middle;\n",
       "    }\n",
       "\n",
       "    .dataframe tbody tr th {\n",
       "        vertical-align: top;\n",
       "    }\n",
       "\n",
       "    .dataframe thead th {\n",
       "        text-align: right;\n",
       "    }\n",
       "</style>\n",
       "<table border=\"1\" class=\"dataframe\">\n",
       "  <thead>\n",
       "    <tr style=\"text-align: right;\">\n",
       "      <th></th>\n",
       "      <th>length</th>\n",
       "      <th>chroma_stft_mean</th>\n",
       "      <th>chroma_stft_var</th>\n",
       "      <th>rms_mean</th>\n",
       "      <th>rms_var</th>\n",
       "      <th>spectral_centroid_mean</th>\n",
       "      <th>spectral_centroid_var</th>\n",
       "      <th>spectral_bandwidth_mean</th>\n",
       "      <th>spectral_bandwidth_var</th>\n",
       "      <th>rolloff_mean</th>\n",
       "      <th>...</th>\n",
       "      <th>mfcc16_mean</th>\n",
       "      <th>mfcc16_var</th>\n",
       "      <th>mfcc17_mean</th>\n",
       "      <th>mfcc17_var</th>\n",
       "      <th>mfcc18_mean</th>\n",
       "      <th>mfcc18_var</th>\n",
       "      <th>mfcc19_mean</th>\n",
       "      <th>mfcc19_var</th>\n",
       "      <th>mfcc20_mean</th>\n",
       "      <th>mfcc20_var</th>\n",
       "    </tr>\n",
       "  </thead>\n",
       "  <tbody>\n",
       "    <tr>\n",
       "      <th>0</th>\n",
       "      <td>0.0</td>\n",
       "      <td>0.355399</td>\n",
       "      <td>0.716757</td>\n",
       "      <td>0.293133</td>\n",
       "      <td>0.107955</td>\n",
       "      <td>0.262173</td>\n",
       "      <td>0.034784</td>\n",
       "      <td>0.459205</td>\n",
       "      <td>0.094130</td>\n",
       "      <td>0.346153</td>\n",
       "      <td>...</td>\n",
       "      <td>0.363613</td>\n",
       "      <td>0.056198</td>\n",
       "      <td>0.397172</td>\n",
       "      <td>0.066062</td>\n",
       "      <td>0.371828</td>\n",
       "      <td>0.055344</td>\n",
       "      <td>0.380831</td>\n",
       "      <td>0.026797</td>\n",
       "      <td>0.506746</td>\n",
       "      <td>0.047781</td>\n",
       "    </tr>\n",
       "    <tr>\n",
       "      <th>1</th>\n",
       "      <td>0.0</td>\n",
       "      <td>0.367322</td>\n",
       "      <td>0.670347</td>\n",
       "      <td>0.253040</td>\n",
       "      <td>0.044447</td>\n",
       "      <td>0.270969</td>\n",
       "      <td>0.018716</td>\n",
       "      <td>0.470831</td>\n",
       "      <td>0.052261</td>\n",
       "      <td>0.363722</td>\n",
       "      <td>...</td>\n",
       "      <td>0.468596</td>\n",
       "      <td>0.092912</td>\n",
       "      <td>0.351681</td>\n",
       "      <td>0.074001</td>\n",
       "      <td>0.362068</td>\n",
       "      <td>0.076365</td>\n",
       "      <td>0.418452</td>\n",
       "      <td>0.082414</td>\n",
       "      <td>0.593029</td>\n",
       "      <td>0.065548</td>\n",
       "    </tr>\n",
       "    <tr>\n",
       "      <th>2</th>\n",
       "      <td>0.0</td>\n",
       "      <td>0.373159</td>\n",
       "      <td>0.728067</td>\n",
       "      <td>0.296753</td>\n",
       "      <td>0.141663</td>\n",
       "      <td>0.265293</td>\n",
       "      <td>0.023073</td>\n",
       "      <td>0.494051</td>\n",
       "      <td>0.059922</td>\n",
       "      <td>0.378215</td>\n",
       "      <td>...</td>\n",
       "      <td>0.479681</td>\n",
       "      <td>0.096704</td>\n",
       "      <td>0.420979</td>\n",
       "      <td>0.050639</td>\n",
       "      <td>0.400536</td>\n",
       "      <td>0.067509</td>\n",
       "      <td>0.433742</td>\n",
       "      <td>0.043841</td>\n",
       "      <td>0.546264</td>\n",
       "      <td>0.036062</td>\n",
       "    </tr>\n",
       "    <tr>\n",
       "      <th>3</th>\n",
       "      <td>0.0</td>\n",
       "      <td>0.399349</td>\n",
       "      <td>0.677066</td>\n",
       "      <td>0.298024</td>\n",
       "      <td>0.075042</td>\n",
       "      <td>0.238427</td>\n",
       "      <td>0.023187</td>\n",
       "      <td>0.455246</td>\n",
       "      <td>0.066234</td>\n",
       "      <td>0.329587</td>\n",
       "      <td>...</td>\n",
       "      <td>0.386258</td>\n",
       "      <td>0.067995</td>\n",
       "      <td>0.387474</td>\n",
       "      <td>0.050617</td>\n",
       "      <td>0.380430</td>\n",
       "      <td>0.050030</td>\n",
       "      <td>0.405824</td>\n",
       "      <td>0.041898</td>\n",
       "      <td>0.562204</td>\n",
       "      <td>0.034873</td>\n",
       "    </tr>\n",
       "    <tr>\n",
       "      <th>4</th>\n",
       "      <td>0.0</td>\n",
       "      <td>0.355668</td>\n",
       "      <td>0.689113</td>\n",
       "      <td>0.322308</td>\n",
       "      <td>0.052149</td>\n",
       "      <td>0.233460</td>\n",
       "      <td>0.016451</td>\n",
       "      <td>0.451651</td>\n",
       "      <td>0.047830</td>\n",
       "      <td>0.318453</td>\n",
       "      <td>...</td>\n",
       "      <td>0.438567</td>\n",
       "      <td>0.042500</td>\n",
       "      <td>0.460314</td>\n",
       "      <td>0.083860</td>\n",
       "      <td>0.388590</td>\n",
       "      <td>0.076524</td>\n",
       "      <td>0.409019</td>\n",
       "      <td>0.020763</td>\n",
       "      <td>0.517913</td>\n",
       "      <td>0.031713</td>\n",
       "    </tr>\n",
       "  </tbody>\n",
       "</table>\n",
       "<p>5 rows × 58 columns</p>\n",
       "</div>"
      ],
      "text/plain": [
       "   length  chroma_stft_mean  chroma_stft_var  rms_mean   rms_var  \\\n",
       "0     0.0          0.355399         0.716757  0.293133  0.107955   \n",
       "1     0.0          0.367322         0.670347  0.253040  0.044447   \n",
       "2     0.0          0.373159         0.728067  0.296753  0.141663   \n",
       "3     0.0          0.399349         0.677066  0.298024  0.075042   \n",
       "4     0.0          0.355668         0.689113  0.322308  0.052149   \n",
       "\n",
       "   spectral_centroid_mean  spectral_centroid_var  spectral_bandwidth_mean  \\\n",
       "0                0.262173               0.034784                 0.459205   \n",
       "1                0.270969               0.018716                 0.470831   \n",
       "2                0.265293               0.023073                 0.494051   \n",
       "3                0.238427               0.023187                 0.455246   \n",
       "4                0.233460               0.016451                 0.451651   \n",
       "\n",
       "   spectral_bandwidth_var  rolloff_mean  ...  mfcc16_mean  mfcc16_var  \\\n",
       "0                0.094130      0.346153  ...     0.363613    0.056198   \n",
       "1                0.052261      0.363722  ...     0.468596    0.092912   \n",
       "2                0.059922      0.378215  ...     0.479681    0.096704   \n",
       "3                0.066234      0.329587  ...     0.386258    0.067995   \n",
       "4                0.047830      0.318453  ...     0.438567    0.042500   \n",
       "\n",
       "   mfcc17_mean  mfcc17_var  mfcc18_mean  mfcc18_var  mfcc19_mean  mfcc19_var  \\\n",
       "0     0.397172    0.066062     0.371828    0.055344     0.380831    0.026797   \n",
       "1     0.351681    0.074001     0.362068    0.076365     0.418452    0.082414   \n",
       "2     0.420979    0.050639     0.400536    0.067509     0.433742    0.043841   \n",
       "3     0.387474    0.050617     0.380430    0.050030     0.405824    0.041898   \n",
       "4     0.460314    0.083860     0.388590    0.076524     0.409019    0.020763   \n",
       "\n",
       "   mfcc20_mean  mfcc20_var  \n",
       "0     0.506746    0.047781  \n",
       "1     0.593029    0.065548  \n",
       "2     0.546264    0.036062  \n",
       "3     0.562204    0.034873  \n",
       "4     0.517913    0.031713  \n",
       "\n",
       "[5 rows x 58 columns]"
      ]
     },
     "execution_count": 11,
     "metadata": {},
     "output_type": "execute_result"
    }
   ],
   "source": [
    "X = pd.DataFrame(scaled, columns = cols)\n",
    "X.head()"
   ]
  },
  {
   "cell_type": "code",
   "execution_count": 12,
   "id": "60851c5e",
   "metadata": {},
   "outputs": [],
   "source": [
    "from sklearn.metrics import confusion_matrix, accuracy_score\n",
    "from sklearn.model_selection import train_test_split"
   ]
  },
  {
   "cell_type": "code",
   "execution_count": 13,
   "id": "2846a0a6",
   "metadata": {},
   "outputs": [],
   "source": [
    "X_train, X_test, y_train, y_test = train_test_split(X, y, test_size=0.3, random_state=111)"
   ]
  },
  {
   "cell_type": "code",
   "execution_count": 14,
   "id": "155eb04a",
   "metadata": {},
   "outputs": [],
   "source": [
    "def model_prediction(model, title = \"Default\"):\n",
    "    model.fit(X_train, y_train)\n",
    "    preds = model.predict(X_test)\n",
    "    print(confusion_matrix(y_test, preds))\n",
    "    print('Accuracy', title, ':', round(accuracy_score(y_test, preds), 5))"
   ]
  },
  {
   "cell_type": "code",
   "execution_count": 15,
   "id": "534d5567",
   "metadata": {},
   "outputs": [],
   "source": [
    "from sklearn.neighbors import KNeighborsClassifier\n",
    "from sklearn.ensemble import RandomForestClassifier\n",
    "from xgboost import XGBClassifier"
   ]
  },
  {
   "cell_type": "code",
   "execution_count": 16,
   "id": "692d3e8f",
   "metadata": {},
   "outputs": [
    {
     "name": "stdout",
     "output_type": "stream",
     "text": [
      "[[223   1  16   2   1   8   0   0  11   7]\n",
      " [  0 275   1   1   0  12   0   0   0   1]\n",
      " [  8   6 245  11   0   8   0   0  12  10]\n",
      " [  5   2   8 269   7   1   2   3   4  15]\n",
      " [  1   0  12  25 207   1   4  15  27   4]\n",
      " [  3  38  16   3   1 234   1   1   2   1]\n",
      " [  5   1   2  15   5   0 267   0   2  21]\n",
      " [  0   2   9  26   6   4   0 254  19   2]\n",
      " [  0   1  11  14  19   1   3   9 241   4]\n",
      " [  9   3  15  35   1   6   5   1  13 195]]\n",
      "Accuracy KNN : 0.80414\n"
     ]
    }
   ],
   "source": [
    "# KNN\n",
    "knn = KNeighborsClassifier(n_neighbors=19)\n",
    "model_prediction(knn, \"KNN\")"
   ]
  },
  {
   "cell_type": "code",
   "execution_count": 17,
   "id": "a9a61a61",
   "metadata": {},
   "outputs": [
    {
     "name": "stdout",
     "output_type": "stream",
     "text": [
      "[[226   0  18   3   2   6  10   0   2   2]\n",
      " [  0 281   1   0   0   6   0   0   0   2]\n",
      " [ 15   2 229  12   1  21   1   0  12   7]\n",
      " [  7   1  16 221  11   1  13   8  14  24]\n",
      " [  2   1   4  20 226   1  10  13  17   2]\n",
      " [  5  22   6   3   0 260   1   1   1   1]\n",
      " [  3   1   1   1   4   0 294   0   5   9]\n",
      " [  0   1  17  13  11   4   0 263   8   5]\n",
      " [  3   0   9  16  11   1   3  12 245   3]\n",
      " [ 12   0  22  28   0   7  18   2  17 177]]\n",
      "Accuracy Random Forest : 0.80814\n"
     ]
    }
   ],
   "source": [
    "# Random Forest\n",
    "rf = RandomForestClassifier(n_estimators=1000, max_depth=10, random_state=0)\n",
    "model_prediction(rf, \"Random Forest\")"
   ]
  },
  {
   "cell_type": "code",
   "execution_count": 18,
   "id": "bef3cb76",
   "metadata": {},
   "outputs": [
    {
     "name": "stderr",
     "output_type": "stream",
     "text": [
      "C:\\Users\\shrad\\anaconda3\\lib\\site-packages\\xgboost\\sklearn.py:1224: UserWarning: The use of label encoder in XGBClassifier is deprecated and will be removed in a future release. To remove this warning, do the following: 1) Pass option use_label_encoder=False when constructing XGBClassifier object; and 2) Encode your labels (y) as integers starting with 0, i.e. 0, 1, 2, ..., [num_class - 1].\n",
      "  warnings.warn(label_encoder_deprecation_msg, UserWarning)\n"
     ]
    },
    {
     "name": "stdout",
     "output_type": "stream",
     "text": [
      "[11:49:05] WARNING: C:/Users/Administrator/workspace/xgboost-win64_release_1.5.0/src/learner.cc:1115: Starting in XGBoost 1.3.0, the default evaluation metric used with the objective 'multi:softprob' was changed from 'merror' to 'mlogloss'. Explicitly set eval_metric if you'd like to restore the old behavior.\n",
      "[[250   0   6   3   1   3   0   0   1   5]\n",
      " [  0 284   0   1   0   3   0   0   0   2]\n",
      " [  6   0 274   4   0   8   0   1   3   4]\n",
      " [  3   1   7 274   2   0   1  12   3  13]\n",
      " [  0   1   3   8 271   0   3   6   4   0]\n",
      " [  5  13   4   0   0 275   0   1   0   2]\n",
      " [  4   1   1   0   5   0 293   0   0  14]\n",
      " [  0   1   5   6   8   3   0 293   1   5]\n",
      " [  3   0   5   6   9   0   1   7 270   2]\n",
      " [  4   2   6   7   1   4  10   1   3 245]]\n",
      "Accuracy Cross Gradient Booster : 0.91058\n"
     ]
    }
   ],
   "source": [
    "# xgboost\n",
    "xgb = XGBClassifier(n_estimators=1000, learning_rate=0.05)\n",
    "model_prediction(xgb, \"Cross Gradient Booster\")"
   ]
  },
  {
   "cell_type": "code",
   "execution_count": 19,
   "id": "683fa352",
   "metadata": {},
   "outputs": [
    {
     "name": "stderr",
     "output_type": "stream",
     "text": [
      "C:\\Users\\shrad\\anaconda3\\lib\\site-packages\\xgboost\\sklearn.py:1224: UserWarning: The use of label encoder in XGBClassifier is deprecated and will be removed in a future release. To remove this warning, do the following: 1) Pass option use_label_encoder=False when constructing XGBClassifier object; and 2) Encode your labels (y) as integers starting with 0, i.e. 0, 1, 2, ..., [num_class - 1].\n",
      "  warnings.warn(label_encoder_deprecation_msg, UserWarning)\n"
     ]
    },
    {
     "name": "stdout",
     "output_type": "stream",
     "text": [
      "[11:51:54] WARNING: C:/Users/Administrator/workspace/xgboost-win64_release_1.5.0/src/learner.cc:1115: Starting in XGBoost 1.3.0, the default evaluation metric used with the objective 'multi:softprob' was changed from 'merror' to 'mlogloss'. Explicitly set eval_metric if you'd like to restore the old behavior.\n"
     ]
    },
    {
     "data": {
      "text/plain": [
       "XGBClassifier(base_score=0.5, booster='gbtree', colsample_bylevel=1,\n",
       "              colsample_bynode=1, colsample_bytree=1, enable_categorical=False,\n",
       "              gamma=0, gpu_id=-1, importance_type=None,\n",
       "              interaction_constraints='', learning_rate=0.05, max_delta_step=0,\n",
       "              max_depth=6, min_child_weight=1, missing=nan,\n",
       "              monotone_constraints='()', n_estimators=1000, n_jobs=8,\n",
       "              num_parallel_tree=1, objective='multi:softprob', predictor='auto',\n",
       "              random_state=0, reg_alpha=0, reg_lambda=1, scale_pos_weight=None,\n",
       "              subsample=1, tree_method='exact', validate_parameters=1,\n",
       "              verbosity=None)"
      ]
     },
     "execution_count": 19,
     "metadata": {},
     "output_type": "execute_result"
    }
   ],
   "source": [
    "xgb = XGBClassifier(n_estimators=1000, learning_rate=0.05)\n",
    "xgb.fit(X_train, y_train)"
   ]
  },
  {
   "cell_type": "code",
   "execution_count": 20,
   "id": "4e79150b",
   "metadata": {},
   "outputs": [
    {
     "name": "stdout",
     "output_type": "stream",
     "text": [
      "Accuracy : 0.91058\n"
     ]
    }
   ],
   "source": [
    "preds = xgb.predict(X_test)\n",
    "print('Accuracy', ':', round(accuracy_score(y_test, preds), 5))"
   ]
  },
  {
   "cell_type": "code",
   "execution_count": 21,
   "id": "8a1e0714",
   "metadata": {},
   "outputs": [
    {
     "data": {
      "image/png": "[encoded data removed]",
      "text/plain": [
       "<Figure size 1152x648 with 2 Axes>"
      ]
     },
     "metadata": {
      "needs_background": "light"
     },
     "output_type": "display_data"
    }
   ],
   "source": [
    "matrix = confusion_matrix(y_test, preds) \n",
    "plt.figure(figsize = (16, 9))\n",
    "sns.heatmap(matrix, cmap=\"Greens\", annot=True, \n",
    "        xticklabels = [\"blues\", \"classical\", \"country\", \"disco\", \"hiphop\", \"jazz\", \"metal\", \"pop\", \"reggae\", \"rock\"],\n",
    "        yticklabels=[\"blues\", \"classical\", \"country\", \"disco\", \"hiphop\", \"jazz\", \"metal\", \"pop\", \"reggae\", \"rock\"]);\n",
    "plt.savefig(\"conf matrix\")"
   ]
  },
  {
   "cell_type": "code",
   "execution_count": null,
   "id": "32fc6253",
   "metadata": {},
   "outputs": [],
   "source": []
  }
 ],
 "metadata": {
  "kernelspec": {
   "display_name": "Python 3",
   "language": "python",
   "name": "python3"
  },
  "language_info": {
   "codemirror_mode": {
    "name": "ipython",
    "version": 3
   },
   "file_extension": ".py",
   "mimetype": "text/x-python",
   "name": "python",
   "nbconvert_exporter": "python",
   "pygments_lexer": "ipython3",
   "version": "3.8.8"
  }
 },
 "nbformat": 4,
 "nbformat_minor": 5
}
